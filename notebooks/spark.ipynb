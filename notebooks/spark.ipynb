{
 "cells": [
  {
   "cell_type": "code",
   "execution_count": 37,
   "id": "9a32c113-da7f-4354-a59d-47a20f6750cd",
   "metadata": {
    "tags": []
   },
   "outputs": [],
   "source": [
    "import pandas as pd\n",
    "from datetime import date, timedelta, datetime\n",
    "\n"
   ]
  },
  {
   "cell_type": "code",
   "execution_count": 39,
   "id": "af005f79-e9a1-43ee-b504-57fff6157f08",
   "metadata": {
    "tags": []
   },
   "outputs": [],
   "source": [
    "all_raw_data = pd.read_csv(\"/Users/allenchen/projects/baseball-analytics/data/aggregated/20230504_agg_raw_data_small.csv\")"
   ]
  },
  {
   "cell_type": "code",
   "execution_count": 40,
   "id": "6eeb7f4c-3f15-464a-931b-50e807c9f69a",
   "metadata": {
    "tags": []
   },
   "outputs": [
    {
     "data": {
      "text/plain": [
       "(9034, 23)"
      ]
     },
     "execution_count": 40,
     "metadata": {},
     "output_type": "execute_result"
    }
   ],
   "source": [
    "all_raw_data.shape"
   ]
  },
  {
   "cell_type": "code",
   "execution_count": 43,
   "id": "c30a7dd4-748d-4a82-8234-c88795fefeb0",
   "metadata": {
    "tags": []
   },
   "outputs": [
    {
     "data": {
      "text/html": [
       "<div>\n",
       "<style scoped>\n",
       "    .dataframe tbody tr th:only-of-type {\n",
       "        vertical-align: middle;\n",
       "    }\n",
       "\n",
       "    .dataframe tbody tr th {\n",
       "        vertical-align: top;\n",
       "    }\n",
       "\n",
       "    .dataframe thead th {\n",
       "        text-align: right;\n",
       "    }\n",
       "</style>\n",
       "<table border=\"1\" class=\"dataframe\">\n",
       "  <thead>\n",
       "    <tr style=\"text-align: right;\">\n",
       "      <th></th>\n",
       "      <th>game_date</th>\n",
       "      <th>batter</th>\n",
       "      <th>pitcher</th>\n",
       "      <th>events</th>\n",
       "      <th>description</th>\n",
       "      <th>game_type</th>\n",
       "      <th>stand</th>\n",
       "      <th>p_throws</th>\n",
       "      <th>home_team</th>\n",
       "      <th>away_team</th>\n",
       "      <th>...</th>\n",
       "      <th>on_1b</th>\n",
       "      <th>outs_when_up</th>\n",
       "      <th>inning</th>\n",
       "      <th>inning_topbot</th>\n",
       "      <th>launch_speed</th>\n",
       "      <th>at_bat_number</th>\n",
       "      <th>pitch_number</th>\n",
       "      <th>game_pk</th>\n",
       "      <th>bat_score</th>\n",
       "      <th>fld_score</th>\n",
       "    </tr>\n",
       "  </thead>\n",
       "  <tbody>\n",
       "    <tr>\n",
       "      <th>22</th>\n",
       "      <td>2023-05-03</td>\n",
       "      <td>575929</td>\n",
       "      <td>660271</td>\n",
       "      <td>d</td>\n",
       "      <td>hit_into_play</td>\n",
       "      <td>R</td>\n",
       "      <td>R</td>\n",
       "      <td>R</td>\n",
       "      <td>STL</td>\n",
       "      <td>LAA</td>\n",
       "      <td>...</td>\n",
       "      <td>0</td>\n",
       "      <td>0</td>\n",
       "      <td>4</td>\n",
       "      <td>Bot</td>\n",
       "      <td>97.4</td>\n",
       "      <td>32</td>\n",
       "      <td>1</td>\n",
       "      <td>718320</td>\n",
       "      <td>1</td>\n",
       "      <td>3</td>\n",
       "    </tr>\n",
       "    <tr>\n",
       "      <th>21</th>\n",
       "      <td>2023-05-03</td>\n",
       "      <td>676475</td>\n",
       "      <td>660271</td>\n",
       "      <td>so</td>\n",
       "      <td>swinging_strike</td>\n",
       "      <td>R</td>\n",
       "      <td>L</td>\n",
       "      <td>R</td>\n",
       "      <td>STL</td>\n",
       "      <td>LAA</td>\n",
       "      <td>...</td>\n",
       "      <td>0</td>\n",
       "      <td>0</td>\n",
       "      <td>4</td>\n",
       "      <td>Bot</td>\n",
       "      <td>NaN</td>\n",
       "      <td>33</td>\n",
       "      <td>4</td>\n",
       "      <td>718320</td>\n",
       "      <td>2</td>\n",
       "      <td>3</td>\n",
       "    </tr>\n",
       "    <tr>\n",
       "      <th>20</th>\n",
       "      <td>2023-05-03</td>\n",
       "      <td>666185</td>\n",
       "      <td>660271</td>\n",
       "      <td>hr</td>\n",
       "      <td>hit_into_play</td>\n",
       "      <td>R</td>\n",
       "      <td>L</td>\n",
       "      <td>R</td>\n",
       "      <td>STL</td>\n",
       "      <td>LAA</td>\n",
       "      <td>...</td>\n",
       "      <td>0</td>\n",
       "      <td>1</td>\n",
       "      <td>4</td>\n",
       "      <td>Bot</td>\n",
       "      <td>103.5</td>\n",
       "      <td>34</td>\n",
       "      <td>2</td>\n",
       "      <td>718320</td>\n",
       "      <td>2</td>\n",
       "      <td>3</td>\n",
       "    </tr>\n",
       "    <tr>\n",
       "      <th>18</th>\n",
       "      <td>2023-05-03</td>\n",
       "      <td>669242</td>\n",
       "      <td>660271</td>\n",
       "      <td>fo</td>\n",
       "      <td>hit_into_play</td>\n",
       "      <td>R</td>\n",
       "      <td>L</td>\n",
       "      <td>R</td>\n",
       "      <td>STL</td>\n",
       "      <td>LAA</td>\n",
       "      <td>...</td>\n",
       "      <td>0</td>\n",
       "      <td>2</td>\n",
       "      <td>4</td>\n",
       "      <td>Bot</td>\n",
       "      <td>74.4</td>\n",
       "      <td>36</td>\n",
       "      <td>3</td>\n",
       "      <td>718320</td>\n",
       "      <td>4</td>\n",
       "      <td>3</td>\n",
       "    </tr>\n",
       "    <tr>\n",
       "      <th>0</th>\n",
       "      <td>2023-05-03</td>\n",
       "      <td>669242</td>\n",
       "      <td>608032</td>\n",
       "      <td>fo</td>\n",
       "      <td>hit_into_play</td>\n",
       "      <td>R</td>\n",
       "      <td>L</td>\n",
       "      <td>R</td>\n",
       "      <td>STL</td>\n",
       "      <td>LAA</td>\n",
       "      <td>...</td>\n",
       "      <td>0</td>\n",
       "      <td>2</td>\n",
       "      <td>9</td>\n",
       "      <td>Bot</td>\n",
       "      <td>72.1</td>\n",
       "      <td>77</td>\n",
       "      <td>5</td>\n",
       "      <td>718320</td>\n",
       "      <td>4</td>\n",
       "      <td>6</td>\n",
       "    </tr>\n",
       "  </tbody>\n",
       "</table>\n",
       "<p>5 rows × 23 columns</p>\n",
       "</div>"
      ],
      "text/plain": [
       "     game_date  batter  pitcher events      description game_type stand   \n",
       "22  2023-05-03  575929   660271      d    hit_into_play         R     R  \\\n",
       "21  2023-05-03  676475   660271     so  swinging_strike         R     L   \n",
       "20  2023-05-03  666185   660271     hr    hit_into_play         R     L   \n",
       "18  2023-05-03  669242   660271     fo    hit_into_play         R     L   \n",
       "0   2023-05-03  669242   608032     fo    hit_into_play         R     L   \n",
       "\n",
       "   p_throws home_team away_team  ...  on_1b  outs_when_up  inning   \n",
       "22        R       STL       LAA  ...      0             0       4  \\\n",
       "21        R       STL       LAA  ...      0             0       4   \n",
       "20        R       STL       LAA  ...      0             1       4   \n",
       "18        R       STL       LAA  ...      0             2       4   \n",
       "0         R       STL       LAA  ...      0             2       9   \n",
       "\n",
       "    inning_topbot  launch_speed  at_bat_number pitch_number  game_pk   \n",
       "22            Bot          97.4             32            1   718320  \\\n",
       "21            Bot           NaN             33            4   718320   \n",
       "20            Bot         103.5             34            2   718320   \n",
       "18            Bot          74.4             36            3   718320   \n",
       "0             Bot          72.1             77            5   718320   \n",
       "\n",
       "    bat_score  fld_score  \n",
       "22          1          3  \n",
       "21          2          3  \n",
       "20          2          3  \n",
       "18          4          3  \n",
       "0           4          6  \n",
       "\n",
       "[5 rows x 23 columns]"
      ]
     },
     "execution_count": 43,
     "metadata": {},
     "output_type": "execute_result"
    }
   ],
   "source": [
    "all_raw_data.sort_values(\"game_date\").tail()"
   ]
  },
  {
   "cell_type": "code",
   "execution_count": 42,
   "id": "eef960a0-f1dd-4b00-9402-294061f88a75",
   "metadata": {
    "tags": []
   },
   "outputs": [
    {
     "data": {
      "text/html": [
       "<div>\n",
       "<style scoped>\n",
       "    .dataframe tbody tr th:only-of-type {\n",
       "        vertical-align: middle;\n",
       "    }\n",
       "\n",
       "    .dataframe tbody tr th {\n",
       "        vertical-align: top;\n",
       "    }\n",
       "\n",
       "    .dataframe thead th {\n",
       "        text-align: right;\n",
       "    }\n",
       "</style>\n",
       "<table border=\"1\" class=\"dataframe\">\n",
       "  <thead>\n",
       "    <tr style=\"text-align: right;\">\n",
       "      <th></th>\n",
       "      <th>game_date</th>\n",
       "      <th>batter</th>\n",
       "      <th>pitcher</th>\n",
       "      <th>events</th>\n",
       "      <th>description</th>\n",
       "      <th>game_type</th>\n",
       "      <th>stand</th>\n",
       "      <th>p_throws</th>\n",
       "      <th>home_team</th>\n",
       "      <th>away_team</th>\n",
       "      <th>...</th>\n",
       "      <th>on_1b</th>\n",
       "      <th>outs_when_up</th>\n",
       "      <th>inning</th>\n",
       "      <th>inning_topbot</th>\n",
       "      <th>launch_speed</th>\n",
       "      <th>at_bat_number</th>\n",
       "      <th>pitch_number</th>\n",
       "      <th>game_pk</th>\n",
       "      <th>bat_score</th>\n",
       "      <th>fld_score</th>\n",
       "    </tr>\n",
       "  </thead>\n",
       "  <tbody>\n",
       "  </tbody>\n",
       "</table>\n",
       "<p>0 rows × 23 columns</p>\n",
       "</div>"
      ],
      "text/plain": [
       "Empty DataFrame\n",
       "Columns: [game_date, batter, pitcher, events, description, game_type, stand, p_throws, home_team, away_team, game_year, on_3b, on_2b, on_1b, outs_when_up, inning, inning_topbot, launch_speed, at_bat_number, pitch_number, game_pk, bat_score, fld_score]\n",
       "Index: []\n",
       "\n",
       "[0 rows x 23 columns]"
      ]
     },
     "execution_count": 42,
     "metadata": {},
     "output_type": "execute_result"
    }
   ],
   "source": [
    "all_raw_data[all_raw_data.on_3b.isnull()]"
   ]
  },
  {
   "cell_type": "code",
   "execution_count": 30,
   "id": "0541ac5d-4380-4cf9-b0c0-89ba53ef5a71",
   "metadata": {
    "tags": []
   },
   "outputs": [
    {
     "data": {
      "text/plain": [
       "datetime.date(2009, 2, 26)"
      ]
     },
     "execution_count": 30,
     "metadata": {},
     "output_type": "execute_result"
    }
   ],
   "source": [
    "date(2008, 2, 27) + timedelta(365)"
   ]
  },
  {
   "cell_type": "code",
   "execution_count": 38,
   "id": "dce86a21-c7df-4bca-a64c-582bce5cd8cf",
   "metadata": {
    "tags": []
   },
   "outputs": [
    {
     "data": {
      "text/plain": [
       "datetime.datetime(2023, 5, 12, 0, 0)"
      ]
     },
     "execution_count": 38,
     "metadata": {},
     "output_type": "execute_result"
    }
   ],
   "source": [
    "datetime.combine(date.today(), datetime.min.time())"
   ]
  },
  {
   "cell_type": "code",
   "execution_count": 5,
   "id": "62d10970-f78f-494e-a336-e842275f907f",
   "metadata": {
    "tags": []
   },
   "outputs": [],
   "source": [
    "#all_raw_data = all_raw_data.astype({\"batter\": str, \"pitcher\": str, \"on_3b\": str, \"on_2b\": str, \"on_1b\": str, \"game_pk\": str})"
   ]
  },
  {
   "cell_type": "code",
   "execution_count": 7,
   "id": "16ee5fbe-903c-4b36-9648-9a1f0ee1e742",
   "metadata": {
    "tags": []
   },
   "outputs": [
    {
     "name": "stdout",
     "output_type": "stream",
     "text": [
      "<class 'pandas.core.frame.DataFrame'>\n",
      "RangeIndex: 3158769 entries, 0 to 3158768\n",
      "Data columns (total 23 columns):\n",
      " #   Column         Dtype  \n",
      "---  ------         -----  \n",
      " 0   game_date      object \n",
      " 1   batter         object \n",
      " 2   pitcher        object \n",
      " 3   events         object \n",
      " 4   description    object \n",
      " 5   game_type      object \n",
      " 6   stand          object \n",
      " 7   p_throws       object \n",
      " 8   home_team      object \n",
      " 9   away_team      object \n",
      " 10  game_year      int64  \n",
      " 11  on_3b          object \n",
      " 12  on_2b          object \n",
      " 13  on_1b          object \n",
      " 14  outs_when_up   int64  \n",
      " 15  inning         int64  \n",
      " 16  inning_topbot  object \n",
      " 17  launch_speed   float64\n",
      " 18  at_bat_number  int64  \n",
      " 19  pitch_number   int64  \n",
      " 20  game_pk        object \n",
      " 21  bat_score      int64  \n",
      " 22  fld_score      int64  \n",
      "dtypes: float64(1), int64(7), object(15)\n",
      "memory usage: 554.3+ MB\n"
     ]
    }
   ],
   "source": [
    "all_raw_data.info()"
   ]
  },
  {
   "cell_type": "code",
   "execution_count": null,
   "id": "5ca3d6f3-e71f-46f0-955e-47dd6dce5914",
   "metadata": {
    "tags": []
   },
   "outputs": [],
   "source": []
  },
  {
   "cell_type": "code",
   "execution_count": null,
   "id": "3620a3de-7ff1-42a9-8410-1ba90e81da84",
   "metadata": {},
   "outputs": [],
   "source": []
  },
  {
   "cell_type": "code",
   "execution_count": 1,
   "id": "1c4ab341-998c-4930-bde5-6e06d8e3c687",
   "metadata": {
    "tags": []
   },
   "outputs": [],
   "source": [
    "from pyspark.sql.functions import pandas_udf, PandasUDFType, col\n",
    "from pyspark.sql.types import *\n",
    "from pyspark.sql import SparkSession"
   ]
  },
  {
   "cell_type": "code",
   "execution_count": 2,
   "id": "2a8c467d-1fb3-44a6-a60d-9fcf4a36f5ac",
   "metadata": {
    "tags": []
   },
   "outputs": [
    {
     "name": "stderr",
     "output_type": "stream",
     "text": [
      "23/05/18 12:28:54 WARN Utils: Your hostname, Allens-MacBook-Pro.local resolves to a loopback address: 127.0.0.1; using 192.168.0.66 instead (on interface en0)\n",
      "23/05/18 12:28:54 WARN Utils: Set SPARK_LOCAL_IP if you need to bind to another address\n",
      "Setting default log level to \"WARN\".\n",
      "To adjust logging level use sc.setLogLevel(newLevel). For SparkR, use setLogLevel(newLevel).\n",
      "23/05/18 12:28:55 WARN NativeCodeLoader: Unable to load native-hadoop library for your platform... using builtin-java classes where applicable\n"
     ]
    }
   ],
   "source": [
    "spark = (\n",
    "    SparkSession\n",
    "    .builder\n",
    "    .master(\"local[12]\")\n",
    "    .appName(\"baseball-analytics\")\n",
    "    .getOrCreate()\n",
    ")"
   ]
  },
  {
   "cell_type": "code",
   "execution_count": 9,
   "id": "4a43fb77-8494-4f41-8968-1dd8cee2e18d",
   "metadata": {
    "tags": []
   },
   "outputs": [],
   "source": [
    "raw_data_schema = StructType(\n",
    "    [\n",
    "        StructField('game_date', StringType(), True), \n",
    "        StructField('batter', StringType(), True), \n",
    "        StructField('pitcher', StringType(), True), \n",
    "        StructField('events', StringType(), True), \n",
    "        StructField('description', StringType(), True), \n",
    "        StructField('game_type', StringType(), True), \n",
    "        StructField('stand', StringType(), True), \n",
    "        StructField('p_throws', StringType(), True), \n",
    "        StructField('home_team', StringType(), True), \n",
    "        StructField('away_team', StringType(), True), \n",
    "        StructField('game_year', ShortType(), True), \n",
    "        StructField('on_3b', StringType(), True), \n",
    "        StructField('on_2b', StringType(), True), \n",
    "        StructField('on_1b', StringType(), True), \n",
    "        StructField('outs_when_up', ByteType(), True), \n",
    "        StructField('inning', ByteType(), True), \n",
    "        StructField('inning_topbot', StringType(), True), \n",
    "        StructField('launch_speed', DoubleType(), True), \n",
    "        StructField('at_bat_number', ShortType(), True), \n",
    "        StructField('pitch_number', ShortType(), True), \n",
    "        StructField('game_pk', StringType(), True), \n",
    "        StructField('bat_score', ByteType(), True), \n",
    "        StructField('fld_score', ByteType(), True), \n",
    "    ]\n",
    ") \n",
    "\n",
    "data = (\n",
    "    spark\n",
    "    .read\n",
    "    .format(\"csv\")\n",
    "    .option(\"header\", \"true\")\n",
    "    .schema(raw_data_schema)\n",
    "    .load(\"/Users/allenchen/projects/baseball-analytics/data/aggregated/20230504_agg_raw_data_small.csv\")\n",
    ")"
   ]
  },
  {
   "cell_type": "code",
   "execution_count": 10,
   "id": "3b0a9093-b748-415a-b7ba-853882ed883c",
   "metadata": {
    "tags": []
   },
   "outputs": [
    {
     "name": "stderr",
     "output_type": "stream",
     "text": [
      "                                                                                \r"
     ]
    },
    {
     "name": "stdout",
     "output_type": "stream",
     "text": [
      "+----------+------+-------+------+---------------+---------+-----+--------+---------+---------+---------+------+-----+------+------------+------+-------------+------------+-------------+------------+-------+---------+---------+\n",
      "| game_date|batter|pitcher|events|    description|game_type|stand|p_throws|home_team|away_team|game_year| on_3b|on_2b| on_1b|outs_when_up|inning|inning_topbot|launch_speed|at_bat_number|pitch_number|game_pk|bat_score|fld_score|\n",
      "+----------+------+-------+------+---------------+---------+-----+--------+---------+---------+---------+------+-----+------+------------+------+-------------+------------+-------------+------------+-------+---------+---------+\n",
      "|2023-05-03|669242| 608032|    fo|  hit_into_play|        R|    L|       R|      STL|      LAA|     2023|     0|    0|     0|           2|     9|          Bot|        72.1|           77|           5| 718320|        4|        6|\n",
      "|2023-05-03|680977| 608032|    so|swinging_strike|        R|    L|       R|      STL|      LAA|     2023|     0|    0|     0|           1|     9|          Bot|        null|           76|           3| 718320|        4|        6|\n",
      "|2023-05-03|666185| 608032|    so|       foul_tip|        R|    L|       R|      STL|      LAA|     2023|     0|    0|     0|           0|     9|          Bot|        null|           75|           4| 718320|        4|        6|\n",
      "|2023-05-03|641933| 572193|    fo|  hit_into_play|        R|    R|       R|      STL|      LAA|     2023|571448|    0|575929|           2|     8|          Bot|        82.4|           68|           6| 718320|        4|        3|\n",
      "|2023-05-03|575929| 572193|     s|  hit_into_play|        R|    R|       R|      STL|      LAA|     2023|     0|    0|571448|           2|     8|          Bot|       111.9|           67|           1| 718320|        4|        3|\n",
      "|2023-05-03|571448| 572193|     s|  hit_into_play|        R|    R|       R|      STL|      LAA|     2023|     0|    0|     0|           2|     8|          Bot|        81.1|           66|           3| 718320|        4|        3|\n",
      "|2023-05-03|669357| 572193|    so|swinging_strike|        R|    L|       R|      STL|      LAA|     2023|     0|    0|     0|           1|     8|          Bot|        null|           65|           4| 718320|        4|        3|\n",
      "|2023-05-03|502671| 572193|    so|swinging_strike|        R|    R|       R|      STL|      LAA|     2023|     0|    0|     0|           0|     8|          Bot|        null|           64|           4| 718320|        4|        3|\n",
      "|2023-05-03|663457| 681217|    fo|  hit_into_play|        R|    L|       R|      STL|      LAA|     2023|     0|    0|     0|           2|     7|          Bot|        86.0|           60|           5| 718320|        4|        3|\n",
      "|2023-05-03|669242| 681217|    fo|  hit_into_play|        R|    L|       R|      STL|      LAA|     2023|     0|    0|     0|           1|     7|          Bot|        97.7|           59|           5| 718320|        4|        3|\n",
      "|2023-05-03|680977| 681217|    fo|  hit_into_play|        R|    L|       R|      STL|      LAA|     2023|     0|    0|     0|           0|     7|          Bot|        95.2|           58|           2| 718320|        4|        3|\n",
      "|2023-05-03|666185| 681217|    fo|  hit_into_play|        R|    L|       R|      STL|      LAA|     2023|     0|    0|     0|           2|     6|          Bot|       102.5|           52|           2| 718320|        4|        3|\n",
      "|2023-05-03|676475| 681217|    fo|  hit_into_play|        R|    L|       R|      STL|      LAA|     2023|     0|    0|     0|           1|     6|          Bot|        70.1|           51|           1| 718320|        4|        3|\n",
      "|2023-05-03|575929| 681217|    fo|  hit_into_play|        R|    R|       R|      STL|      LAA|     2023|     0|    0|     0|           0|     6|          Bot|       104.9|           50|           2| 718320|        4|        3|\n",
      "|2023-05-03|571448| 660271|    so|swinging_strike|        R|    R|       R|      STL|      LAA|     2023|     0|    0|669357|           2|     5|          Bot|        null|           44|           6| 718320|        4|        3|\n",
      "|2023-05-03|669357| 660271|     s|  hit_into_play|        R|    L|       R|      STL|      LAA|     2023|     0|    0|     0|           2|     5|          Bot|       101.4|           43|           4| 718320|        4|        3|\n",
      "|2023-05-03|502671| 660271|    so|       foul_tip|        R|    R|       R|      STL|      LAA|     2023|     0|    0|     0|           1|     5|          Bot|        null|           42|           6| 718320|        4|        3|\n",
      "|2023-05-03|663457| 660271|    so|swinging_strike|        R|    L|       R|      STL|      LAA|     2023|     0|    0|     0|           0|     5|          Bot|        null|           41|           4| 718320|        4|        3|\n",
      "|2023-05-03|669242| 660271|    fo|  hit_into_play|        R|    L|       R|      STL|      LAA|     2023|     0|    0|     0|           2|     4|          Bot|        74.4|           36|           3| 718320|        4|        3|\n",
      "|2023-05-03|680977| 660271|    so|swinging_strike|        R|    L|       R|      STL|      LAA|     2023|     0|    0|     0|           1|     4|          Bot|        null|           35|           3| 718320|        4|        3|\n",
      "+----------+------+-------+------+---------------+---------+-----+--------+---------+---------+---------+------+-----+------+------------+------+-------------+------------+-------------+------------+-------+---------+---------+\n",
      "only showing top 20 rows\n",
      "\n"
     ]
    }
   ],
   "source": [
    "data.show()"
   ]
  },
  {
   "cell_type": "code",
   "execution_count": 13,
   "id": "8358509c-7509-4205-b10a-fd79507bdcb5",
   "metadata": {
    "tags": []
   },
   "outputs": [
    {
     "data": {
      "text/plain": [
       "{'R': 1, 'L': 0}"
      ]
     },
     "execution_count": 13,
     "metadata": {},
     "output_type": "execute_result"
    }
   ],
   "source": [
    "dict(R=1, L=0)"
   ]
  },
  {
   "cell_type": "code",
   "execution_count": 16,
   "id": "a8e9436d-d6b4-48dd-a8c7-c86336ddccac",
   "metadata": {
    "tags": []
   },
   "outputs": [
    {
     "data": {
      "text/html": [
       "<div>\n",
       "<style scoped>\n",
       "    .dataframe tbody tr th:only-of-type {\n",
       "        vertical-align: middle;\n",
       "    }\n",
       "\n",
       "    .dataframe tbody tr th {\n",
       "        vertical-align: top;\n",
       "    }\n",
       "\n",
       "    .dataframe thead th {\n",
       "        text-align: right;\n",
       "    }\n",
       "</style>\n",
       "<table border=\"1\" class=\"dataframe\">\n",
       "  <thead>\n",
       "    <tr style=\"text-align: right;\">\n",
       "      <th></th>\n",
       "      <th>mean</th>\n",
       "      <th>median</th>\n",
       "    </tr>\n",
       "  </thead>\n",
       "  <tbody>\n",
       "    <tr>\n",
       "      <th>3</th>\n",
       "      <td>1</td>\n",
       "      <td>0</td>\n",
       "    </tr>\n",
       "  </tbody>\n",
       "</table>\n",
       "</div>"
      ],
      "text/plain": [
       "   mean  median\n",
       "3     1       0"
      ]
     },
     "execution_count": 16,
     "metadata": {},
     "output_type": "execute_result"
    }
   ],
   "source": [
    "pd.DataFrame({\"mean\": 1, \"median\": 0}, index=[3])"
   ]
  },
  {
   "cell_type": "code",
   "execution_count": 51,
   "id": "7fb4b925-8936-43da-a146-58d8d36dbc9d",
   "metadata": {
    "tags": []
   },
   "outputs": [
    {
     "name": "stdout",
     "output_type": "stream",
     "text": [
      "+-------+----+------+\n",
      "|   Name|mean|median|\n",
      "+-------+----+------+\n",
      "|  Allen| 5.5|  13.0|\n",
      "|    Bob| 4.0|  10.0|\n",
      "|Jessica| 4.0|  17.5|\n",
      "+-------+----+------+\n",
      "\n"
     ]
    },
    {
     "name": "stderr",
     "output_type": "stream",
     "text": [
      "    Name  Number1  Number2\n",
      "0  Allen       10       20\n",
      "1  Allen        1        6\n",
      "  Name  Number1  Number2\n",
      "0  Bob        4       10\n",
      "      Name  Number1  Number2\n",
      "0  Jessica        3       15\n",
      "1  Jessica        5       20\n"
     ]
    }
   ],
   "source": [
    "from pyspark.sql.types import StructType,StructField,IntegerType,Row,FloatType, StringType\n",
    "from pyspark.sql.functions import udf, col\n",
    "from pyspark.sql.functions import pandas_udf, PandasUDFType\n",
    "import pandas as pd\n",
    "import numpy as np\n",
    "\n",
    "df = spark.createDataFrame([(\"Bob\", 4, 10), (\"Jessica\", 3, 15), (\"Allen\", 10, 20), (\"Jessica\", 5, 20), (\"Allen\", 1, 6)], [\"Name\", \"Number1\", \"Number2\"])\n",
    "\n",
    "schema = StructType([\n",
    "    StructField(\"Name\", StringType(), False), \n",
    "    StructField(\"mean\", FloatType(), False),\n",
    "    StructField(\"median\", FloatType(), False)])\n",
    "\n",
    "\n",
    "def example(df: pd.DataFrame) -> pd.DataFrame:\n",
    "    print(df)\n",
    "    mean = np.mean(df[\"Number1\"])\n",
    "    median = np.median(df[\"Number2\"])\n",
    "    return pd.DataFrame({\"Name\": df[\"Name\"][0], \"mean\": mean, \"median\": median}, index=[df[\"Name\"][0]])\n",
    "\n",
    "\n",
    "# schema = StructType([\n",
    "#     StructField(\"out1\", IntegerType(), False),\n",
    "#     StructField(\"out2\", IntegerType(), False)])\n",
    "\n",
    "# example_udf = udf(example, schema)\n",
    "                         \n",
    "newDF = df.groupby(col(\"Name\")).apply(pandas_udf(example, schema, PandasUDFType.GROUPED_MAP))\n",
    "newDF.show()\n",
    "\n",
    "#newDF = df.withColumn(\"Output\", example_udf(df[\"Number\"]))\n",
    "#newDF = newDF.select(\"Name\", \"Number\", \"Output.*\")\n",
    "\n",
    "#newDF.show(truncate=False)"
   ]
  },
  {
   "cell_type": "code",
   "execution_count": 55,
   "id": "fcc64fb6-5e6a-4000-a510-c767275a55a5",
   "metadata": {
    "tags": []
   },
   "outputs": [
    {
     "name": "stderr",
     "output_type": "stream",
     "text": [
      "    Name  Number1  Number2\n",
      "0  Allen       10       20\n",
      "1  Allen        1        6\n",
      "  Name  Number1  Number2\n",
      "0  Bob        4       10\n",
      "      Name  Number1  Number2\n",
      "0  Jessica        3       15\n",
      "1  Jessica        5       20\n"
     ]
    },
    {
     "data": {
      "text/html": [
       "<div>\n",
       "<style scoped>\n",
       "    .dataframe tbody tr th:only-of-type {\n",
       "        vertical-align: middle;\n",
       "    }\n",
       "\n",
       "    .dataframe tbody tr th {\n",
       "        vertical-align: top;\n",
       "    }\n",
       "\n",
       "    .dataframe thead th {\n",
       "        text-align: right;\n",
       "    }\n",
       "</style>\n",
       "<table border=\"1\" class=\"dataframe\">\n",
       "  <thead>\n",
       "    <tr style=\"text-align: right;\">\n",
       "      <th></th>\n",
       "      <th>mean</th>\n",
       "      <th>median</th>\n",
       "    </tr>\n",
       "    <tr>\n",
       "      <th>Name</th>\n",
       "      <th></th>\n",
       "      <th></th>\n",
       "    </tr>\n",
       "  </thead>\n",
       "  <tbody>\n",
       "    <tr>\n",
       "      <th>Allen</th>\n",
       "      <td>5.5</td>\n",
       "      <td>13.0</td>\n",
       "    </tr>\n",
       "    <tr>\n",
       "      <th>Bob</th>\n",
       "      <td>4.0</td>\n",
       "      <td>10.0</td>\n",
       "    </tr>\n",
       "    <tr>\n",
       "      <th>Jessica</th>\n",
       "      <td>4.0</td>\n",
       "      <td>17.5</td>\n",
       "    </tr>\n",
       "  </tbody>\n",
       "</table>\n",
       "</div>"
      ],
      "text/plain": [
       "         mean  median\n",
       "Name                 \n",
       "Allen     5.5    13.0\n",
       "Bob       4.0    10.0\n",
       "Jessica   4.0    17.5"
      ]
     },
     "execution_count": 55,
     "metadata": {},
     "output_type": "execute_result"
    }
   ],
   "source": [
    "new_df = newDF.toPandas()\n",
    "new_df.set_index(\"Name\", drop=True, inplace=True)\n",
    "new_df"
   ]
  },
  {
   "cell_type": "code",
   "execution_count": 27,
   "id": "fb2dfdd9-4ba3-4294-8229-0608e4849fd9",
   "metadata": {
    "tags": []
   },
   "outputs": [],
   "source": [
    "import pyspark.sql.functions as F\n",
    "from pyspark import keyword_only\n",
    "from pyspark.ml import Transformer\n",
    "\n",
    "class MeanNormalizerTransformer(Transformer):\n",
    "\n",
    "    @keyword_only\n",
    "    def __init__(self, column_name=None, mean=None):\n",
    "        super().__init__()\n",
    "        self.setParams(**self._input_kwargs)\n",
    "        print(self._column_name)\n",
    "        print(self._mean)\n",
    "        \n",
    "    @keyword_only\n",
    "    def setParams(self, **kwargs):\n",
    "        \"\"\"Set parameters as required by the SparkML standards\"\"\"\n",
    "        return self._set(**self._input_kwargs)\n",
    "\n",
    "    def _transform(self, ddf):\n",
    "        self._logger.info(\"Normalizing values by the mean\")\n",
    "        ddf = ddf.withColumn(self._column_name, F.col(self._column_name) / self._mean)\n",
    "        return ddf"
   ]
  },
  {
   "cell_type": "code",
   "execution_count": 29,
   "id": "047fc702-0dfb-4ae9-aed3-6069c419b99d",
   "metadata": {
    "tags": []
   },
   "outputs": [
    {
     "ename": "AttributeError",
     "evalue": "'MeanNormalizerTransformer' object has no attribute 'column_name'",
     "output_type": "error",
     "traceback": [
      "\u001b[0;31m---------------------------------------------------------------------------\u001b[0m",
      "\u001b[0;31mAttributeError\u001b[0m                            Traceback (most recent call last)",
      "Cell \u001b[0;32mIn[29], line 1\u001b[0m\n\u001b[0;32m----> 1\u001b[0m \u001b[43mMeanNormalizerTransformer\u001b[49m\u001b[43m(\u001b[49m\u001b[43mcolumn_name\u001b[49m\u001b[38;5;241;43m=\u001b[39;49m\u001b[38;5;124;43m\"\u001b[39;49m\u001b[38;5;124;43mhi\u001b[39;49m\u001b[38;5;124;43m\"\u001b[39;49m\u001b[43m,\u001b[49m\u001b[43m \u001b[49m\u001b[43mmean\u001b[49m\u001b[38;5;241;43m=\u001b[39;49m\u001b[38;5;124;43m\"\u001b[39;49m\u001b[38;5;124;43mwhat\u001b[39;49m\u001b[38;5;124;43m\"\u001b[39;49m\u001b[43m)\u001b[49m\n",
      "File \u001b[0;32m~/projects/baseball-analytics/venv/lib/python3.9/site-packages/pyspark/__init__.py:139\u001b[0m, in \u001b[0;36mkeyword_only.<locals>.wrapper\u001b[0;34m(self, *args, **kwargs)\u001b[0m\n\u001b[1;32m    137\u001b[0m     \u001b[38;5;28;01mraise\u001b[39;00m \u001b[38;5;167;01mTypeError\u001b[39;00m(\u001b[38;5;124m\"\u001b[39m\u001b[38;5;124mMethod \u001b[39m\u001b[38;5;132;01m%s\u001b[39;00m\u001b[38;5;124m forces keyword arguments.\u001b[39m\u001b[38;5;124m\"\u001b[39m \u001b[38;5;241m%\u001b[39m func\u001b[38;5;241m.\u001b[39m\u001b[38;5;18m__name__\u001b[39m)\n\u001b[1;32m    138\u001b[0m \u001b[38;5;28mself\u001b[39m\u001b[38;5;241m.\u001b[39m_input_kwargs \u001b[38;5;241m=\u001b[39m kwargs\n\u001b[0;32m--> 139\u001b[0m \u001b[38;5;28;01mreturn\u001b[39;00m \u001b[43mfunc\u001b[49m\u001b[43m(\u001b[49m\u001b[38;5;28;43mself\u001b[39;49m\u001b[43m,\u001b[49m\u001b[43m \u001b[49m\u001b[38;5;241;43m*\u001b[39;49m\u001b[38;5;241;43m*\u001b[39;49m\u001b[43mkwargs\u001b[49m\u001b[43m)\u001b[49m\n",
      "Cell \u001b[0;32mIn[27], line 10\u001b[0m, in \u001b[0;36mMeanNormalizerTransformer.__init__\u001b[0;34m(self, column_name, mean)\u001b[0m\n\u001b[1;32m      7\u001b[0m \u001b[38;5;129m@keyword_only\u001b[39m\n\u001b[1;32m      8\u001b[0m \u001b[38;5;28;01mdef\u001b[39;00m \u001b[38;5;21m__init__\u001b[39m(\u001b[38;5;28mself\u001b[39m, column_name\u001b[38;5;241m=\u001b[39m\u001b[38;5;28;01mNone\u001b[39;00m, mean\u001b[38;5;241m=\u001b[39m\u001b[38;5;28;01mNone\u001b[39;00m):\n\u001b[1;32m      9\u001b[0m     \u001b[38;5;28msuper\u001b[39m()\u001b[38;5;241m.\u001b[39m\u001b[38;5;21m__init__\u001b[39m()\n\u001b[0;32m---> 10\u001b[0m     \u001b[38;5;28;43mself\u001b[39;49m\u001b[38;5;241;43m.\u001b[39;49m\u001b[43msetParams\u001b[49m\u001b[43m(\u001b[49m\u001b[38;5;241;43m*\u001b[39;49m\u001b[38;5;241;43m*\u001b[39;49m\u001b[38;5;28;43mself\u001b[39;49m\u001b[38;5;241;43m.\u001b[39;49m\u001b[43m_input_kwargs\u001b[49m\u001b[43m)\u001b[49m\n\u001b[1;32m     11\u001b[0m     \u001b[38;5;28mprint\u001b[39m(\u001b[38;5;28mself\u001b[39m\u001b[38;5;241m.\u001b[39m_column_name)\n\u001b[1;32m     12\u001b[0m     \u001b[38;5;28mprint\u001b[39m(\u001b[38;5;28mself\u001b[39m\u001b[38;5;241m.\u001b[39m_mean)\n",
      "File \u001b[0;32m~/projects/baseball-analytics/venv/lib/python3.9/site-packages/pyspark/__init__.py:139\u001b[0m, in \u001b[0;36mkeyword_only.<locals>.wrapper\u001b[0;34m(self, *args, **kwargs)\u001b[0m\n\u001b[1;32m    137\u001b[0m     \u001b[38;5;28;01mraise\u001b[39;00m \u001b[38;5;167;01mTypeError\u001b[39;00m(\u001b[38;5;124m\"\u001b[39m\u001b[38;5;124mMethod \u001b[39m\u001b[38;5;132;01m%s\u001b[39;00m\u001b[38;5;124m forces keyword arguments.\u001b[39m\u001b[38;5;124m\"\u001b[39m \u001b[38;5;241m%\u001b[39m func\u001b[38;5;241m.\u001b[39m\u001b[38;5;18m__name__\u001b[39m)\n\u001b[1;32m    138\u001b[0m \u001b[38;5;28mself\u001b[39m\u001b[38;5;241m.\u001b[39m_input_kwargs \u001b[38;5;241m=\u001b[39m kwargs\n\u001b[0;32m--> 139\u001b[0m \u001b[38;5;28;01mreturn\u001b[39;00m \u001b[43mfunc\u001b[49m\u001b[43m(\u001b[49m\u001b[38;5;28;43mself\u001b[39;49m\u001b[43m,\u001b[49m\u001b[43m \u001b[49m\u001b[38;5;241;43m*\u001b[39;49m\u001b[38;5;241;43m*\u001b[39;49m\u001b[43mkwargs\u001b[49m\u001b[43m)\u001b[49m\n",
      "Cell \u001b[0;32mIn[27], line 17\u001b[0m, in \u001b[0;36mMeanNormalizerTransformer.setParams\u001b[0;34m(self, **kwargs)\u001b[0m\n\u001b[1;32m     14\u001b[0m \u001b[38;5;129m@keyword_only\u001b[39m\n\u001b[1;32m     15\u001b[0m \u001b[38;5;28;01mdef\u001b[39;00m \u001b[38;5;21msetParams\u001b[39m(\u001b[38;5;28mself\u001b[39m, \u001b[38;5;241m*\u001b[39m\u001b[38;5;241m*\u001b[39mkwargs):\n\u001b[1;32m     16\u001b[0m \u001b[38;5;250m    \u001b[39m\u001b[38;5;124;03m\"\"\"Set parameters as required by the SparkML standards\"\"\"\u001b[39;00m\n\u001b[0;32m---> 17\u001b[0m     \u001b[38;5;28;01mreturn\u001b[39;00m \u001b[38;5;28;43mself\u001b[39;49m\u001b[38;5;241;43m.\u001b[39;49m\u001b[43m_set\u001b[49m\u001b[43m(\u001b[49m\u001b[38;5;241;43m*\u001b[39;49m\u001b[38;5;241;43m*\u001b[39;49m\u001b[38;5;28;43mself\u001b[39;49m\u001b[38;5;241;43m.\u001b[39;49m\u001b[43m_input_kwargs\u001b[49m\u001b[43m)\u001b[49m\n",
      "File \u001b[0;32m~/projects/baseball-analytics/venv/lib/python3.9/site-packages/pyspark/ml/param/__init__.py:500\u001b[0m, in \u001b[0;36mParams._set\u001b[0;34m(self, **kwargs)\u001b[0m\n\u001b[1;32m    496\u001b[0m \u001b[38;5;250m\u001b[39m\u001b[38;5;124;03m\"\"\"\u001b[39;00m\n\u001b[1;32m    497\u001b[0m \u001b[38;5;124;03mSets user-supplied params.\u001b[39;00m\n\u001b[1;32m    498\u001b[0m \u001b[38;5;124;03m\"\"\"\u001b[39;00m\n\u001b[1;32m    499\u001b[0m \u001b[38;5;28;01mfor\u001b[39;00m param, value \u001b[38;5;129;01min\u001b[39;00m kwargs\u001b[38;5;241m.\u001b[39mitems():\n\u001b[0;32m--> 500\u001b[0m     p \u001b[38;5;241m=\u001b[39m \u001b[38;5;28;43mgetattr\u001b[39;49m\u001b[43m(\u001b[49m\u001b[38;5;28;43mself\u001b[39;49m\u001b[43m,\u001b[49m\u001b[43m \u001b[49m\u001b[43mparam\u001b[49m\u001b[43m)\u001b[49m\n\u001b[1;32m    501\u001b[0m     \u001b[38;5;28;01mif\u001b[39;00m value \u001b[38;5;129;01mis\u001b[39;00m \u001b[38;5;129;01mnot\u001b[39;00m \u001b[38;5;28;01mNone\u001b[39;00m:\n\u001b[1;32m    502\u001b[0m         \u001b[38;5;28;01mtry\u001b[39;00m:\n",
      "\u001b[0;31mAttributeError\u001b[0m: 'MeanNormalizerTransformer' object has no attribute 'column_name'"
     ]
    }
   ],
   "source": [
    "MeanNormalizerTransformer(column_name=\"hi\", mean=\"what\")"
   ]
  },
  {
   "cell_type": "code",
   "execution_count": 39,
   "id": "d500ef72-f0cc-467e-9bc2-b64fcdb98bc9",
   "metadata": {
    "tags": []
   },
   "outputs": [
    {
     "data": {
      "text/html": [
       "<div>\n",
       "<style scoped>\n",
       "    .dataframe tbody tr th:only-of-type {\n",
       "        vertical-align: middle;\n",
       "    }\n",
       "\n",
       "    .dataframe tbody tr th {\n",
       "        vertical-align: top;\n",
       "    }\n",
       "\n",
       "    .dataframe thead th {\n",
       "        text-align: right;\n",
       "    }\n",
       "</style>\n",
       "<table border=\"1\" class=\"dataframe\">\n",
       "  <thead>\n",
       "    <tr style=\"text-align: right;\">\n",
       "      <th></th>\n",
       "      <th>pPA</th>\n",
       "      <th>RpPA</th>\n",
       "      <th>batter</th>\n",
       "    </tr>\n",
       "  </thead>\n",
       "  <tbody>\n",
       "    <tr>\n",
       "      <th>408234</th>\n",
       "      <td>[3.0, 3.0, 3.0, 3.0, 3.0, 3.0, 3.0, 3.0, 3.0, ...</td>\n",
       "      <td>[0.0, 0.0, 0.0, 0.0, 0.0, 0.0, 0.0, 0.0, 0.0, ...</td>\n",
       "      <td>408234</td>\n",
       "    </tr>\n",
       "  </tbody>\n",
       "</table>\n",
       "</div>"
      ],
      "text/plain": [
       "                                                      pPA   \n",
       "408234  [3.0, 3.0, 3.0, 3.0, 3.0, 3.0, 3.0, 3.0, 3.0, ...  \\\n",
       "\n",
       "                                                     RpPA  batter  \n",
       "408234  [0.0, 0.0, 0.0, 0.0, 0.0, 0.0, 0.0, 0.0, 0.0, ...  408234  "
      ]
     },
     "execution_count": 39,
     "metadata": {},
     "output_type": "execute_result"
    }
   ],
   "source": [
    "stat_ma_mapping = {\n",
    "    'pPA': [3.0, 3.0, 3.0, 3.0, 3.0, 3.0, 3.0, 3.0, 3.0, 3.0, 3.0, 3.0, 3.0, 3.0, 3.0, 3.0, 3.0, 3.0, 3.0, 3.0, 3.0, 3.0, 3.0, 3.0, 3.0, 3.0, 3.0, 3.0, 3.0, 3.0, 3.0, 3.0, 3.0, 3.0, 3.0, 3.0, 3.0, 3.0, 3.0, 3.0, 3.0, 3.0, 3.0, 3.0, 3.0, 3.0, 3.0], \n",
    "    'RpPA': [0.0, 0.0, 0.0, 0.0, 0.0, 0.0, 0.0, 0.0, 0.0, 0.0, 0.0, 0.0, 0.0, 0.0, 0.0, 0.0, 0.0, 0.0, 0.0, 0.0, 0.0, 0.0, 0.0, 0.0, 0.0, 0.0, 0.0, 0.0, 0.0, 0.0, 0.0, 0.0, 0.0, 0.0, 0.0, 0.0, 0.0, 0.0, 0.0, 0.0, 0.0, 0.0, 0.0, 0.0, 0.0, 0.0, 0.0], \n",
    "    'batter': '408234', \n",
    "}\n",
    "pd.DataFrame.from_dict({'408234':stat_ma_mapping}, orient='index')"
   ]
  },
  {
   "cell_type": "code",
   "execution_count": 45,
   "id": "08357f6a-b19e-4f8c-818c-cfc5a64b6347",
   "metadata": {
    "tags": []
   },
   "outputs": [
    {
     "data": {
      "text/plain": [
       "Timestamp('2023-10-05 00:00:00')"
      ]
     },
     "execution_count": 45,
     "metadata": {},
     "output_type": "execute_result"
    }
   ],
   "source": [
    "from datetime import datetime\n",
    "\n",
    "pd.Timestamp(datetime(2023,10,5))"
   ]
  },
  {
   "cell_type": "code",
   "execution_count": 49,
   "id": "8e7ce67c-22f7-4ee3-b75e-2f9ccdfcaa25",
   "metadata": {
    "tags": []
   },
   "outputs": [
    {
     "data": {
      "text/plain": [
       "10"
      ]
     },
     "execution_count": 49,
     "metadata": {},
     "output_type": "execute_result"
    }
   ],
   "source": [
    "ex_df = pd.DataFrame({\"player\": [\"allen\", \"bob\"], \"score\": [10, 90]})\n",
    "ex_df.loc[ex_df[\"player\"] == \"allen\", \"score\"].values[0]"
   ]
  },
  {
   "cell_type": "code",
   "execution_count": null,
   "id": "9c7a682f-7ac3-4507-aacd-6ff01a70b289",
   "metadata": {},
   "outputs": [],
   "source": []
  }
 ],
 "metadata": {
  "kernelspec": {
   "display_name": "baseball_virtual_env",
   "language": "python",
   "name": "baseball_virtual_env"
  },
  "language_info": {
   "codemirror_mode": {
    "name": "ipython",
    "version": 3
   },
   "file_extension": ".py",
   "mimetype": "text/x-python",
   "name": "python",
   "nbconvert_exporter": "python",
   "pygments_lexer": "ipython3",
   "version": "3.9.6"
  }
 },
 "nbformat": 4,
 "nbformat_minor": 5
}
